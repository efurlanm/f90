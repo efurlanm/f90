{
 "cells": [
  {
   "cell_type": "markdown",
   "id": "21e30f65-aa65-4fc2-9a5a-b2fa62742da6",
   "metadata": {},
   "source": [
    "# Auxiliary routines\n",
    "\n",
    "*Last edited: 2024-07-25*"
   ]
  },
  {
   "cell_type": "code",
   "execution_count": null,
   "id": "aa86d2a0-7dcc-4cc4-a348-30c0117957dc",
   "metadata": {},
   "outputs": [],
   "source": [
    "%%writefile bin/auxrout.py\n"
   ]
  }
 ],
 "metadata": {
  "kernelspec": {
   "display_name": "",
   "name": ""
  },
  "language_info": {
   "name": ""
  }
 },
 "nbformat": 4,
 "nbformat_minor": 5
}

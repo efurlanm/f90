{
 "cells": [
  {
   "cell_type": "markdown",
   "metadata": {},
   "source": [
    "# gfortran Fortran-2018 features"
   ]
  },
  {
   "cell_type": "markdown",
   "metadata": {},
   "source": [
    "### Implicit none enhancement"
   ]
  },
  {
   "cell_type": "code",
   "execution_count": 10,
   "metadata": {},
   "outputs": [
    {
     "name": "stdout",
     "output_type": "stream",
     "text": [
      "Overwriting test01.f90\n"
     ]
    }
   ],
   "source": [
    "%%writefile test01.f90\n",
    "program main\n",
    "  implicit none (type)  ! equal to implicit none\n",
    "  print*, \"Hello, world!\"\n",
    "end"
   ]
  },
  {
   "cell_type": "code",
   "execution_count": 77,
   "metadata": {},
   "outputs": [
    {
     "name": "stdout",
     "output_type": "stream",
     "text": [
      " Hello, world!\n"
     ]
    }
   ],
   "source": [
    "!gfortran test01.f90 && ./a.out"
   ]
  },
  {
   "cell_type": "markdown",
   "metadata": {},
   "source": [
    "### Implicit as compiler option (not 2018 specific)"
   ]
  },
  {
   "cell_type": "code",
   "execution_count": 92,
   "metadata": {},
   "outputs": [
    {
     "name": "stdout",
     "output_type": "stream",
     "text": [
      "Overwriting test02.f90\n"
     ]
    }
   ],
   "source": [
    "%%writefile test02.f90\n",
    "program main\n",
    "    print*, a()\n",
    "contains\n",
    "    integer function a()\n",
    "        a = 123\n",
    "    end\n",
    "end"
   ]
  },
  {
   "cell_type": "code",
   "execution_count": 93,
   "metadata": {},
   "outputs": [
    {
     "name": "stdout",
     "output_type": "stream",
     "text": [
      "         123\n"
     ]
    }
   ],
   "source": [
    "!gfortran -fimplicit-none test02.f90  && ./a.out"
   ]
  },
  {
   "cell_type": "markdown",
   "metadata": {},
   "source": [
    "### Implicit external\n",
    "- external procedure or module must be explicity declared\n",
    "- avoid hard to detect errors\n",
    "- requires that the names of external and dummy procedures be explicitly declared to have the *external* attribute\n",
    "- may be done by:\n",
    "    - *external* statement\n",
    "    - *procedure* declaration statement\n",
    "    - interface block\n",
    "    - *external* attribute in a type declaration statement"
   ]
  },
  {
   "cell_type": "code",
   "execution_count": 126,
   "metadata": {},
   "outputs": [
    {
     "name": "stdout",
     "output_type": "stream",
     "text": [
      "Overwriting test03.f90\n"
     ]
    }
   ],
   "source": [
    "%%writefile test03.f90\n",
    "subroutine a(x)\n",
    "    integer :: x\n",
    "    x = 345\n",
    "end\n",
    "program main\n",
    "implicit none (type, external)  ! a() must be explicitly declared\n",
    "    !external a   !or\n",
    "    procedure() a\n",
    "    integer :: x\n",
    "    call a(x)\n",
    "    print*, x\n",
    "end"
   ]
  },
  {
   "cell_type": "code",
   "execution_count": 127,
   "metadata": {},
   "outputs": [
    {
     "name": "stdout",
     "output_type": "stream",
     "text": [
      "         345\n"
     ]
    }
   ],
   "source": [
    "!gfortran test03.f90 && ./a.out"
   ]
  },
  {
   "cell_type": "markdown",
   "metadata": {},
   "source": [
    "### References\n",
    "- https://gcc.gnu.org/wiki/Fortran2018Status\n",
    "- https://software.intel.com/content/www/us/en/develop/documentation/fortran-compiler-oneapi-dev-guide-and-reference/top/language-reference/a-to-z-reference/h-to-i/implicit.html\n",
    "- https://j3-fortran.org/doc/year/13/13-312r4.txt\n",
    "- M. Metcalf, J. Reid, and M. Cohen: Modern Fortran Explained"
   ]
  }
 ],
 "metadata": {
  "kernelspec": {
   "display_name": "Python 3",
   "language": "python",
   "name": "python3"
  },
  "language_info": {
   "codemirror_mode": {
    "name": "ipython",
    "version": 3
   },
   "file_extension": ".py",
   "mimetype": "text/x-python",
   "name": "python",
   "nbconvert_exporter": "python",
   "pygments_lexer": "ipython3",
   "version": "3.7.6"
  }
 },
 "nbformat": 4,
 "nbformat_minor": 4
}

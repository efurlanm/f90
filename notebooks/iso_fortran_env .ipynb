{
 "cells": [
  {
   "cell_type": "markdown",
   "id": "c0d8a6bf-f888-41c8-b50c-00066a9861e0",
   "metadata": {},
   "source": [
    "# iso_fortran_env intrinsic\n",
    "\n",
    "*Last edited: 2024-11-27*\n",
    "\n",
    "Based on: https://fortranwiki.org/fortran/show/iso_fortran_env\n",
    "\n",
    "Using a [Jupyter kernel implementation for Fortran](<https://github.com/jans-code/jansfortrankernel>)."
   ]
  },
  {
   "cell_type": "markdown",
   "id": "884b2303-500c-4cd0-8108-73abfb5000c0",
   "metadata": {},
   "source": [
    "## compiler_options intrinsic"
   ]
  },
  {
   "cell_type": "code",
   "execution_count": 2,
   "id": "e94bbc13-d72d-4b31-a6ac-f3e9ac9f4220",
   "metadata": {},
   "outputs": [
    {
     "name": "stdout",
     "output_type": "stream",
     "text": [
      "This file was compiled by GCC version 11.4.0 using the options -mtune=generic -march=x86-64 -fpre-include=/usr/include/finclude/math-vector-fortran.h\n"
     ]
    }
   ],
   "source": [
    "use iso_fortran_env\n",
    "print '(4a)', 'This file was compiled by ', &\n",
    "              compiler_version(), ' using the options ', &\n",
    "              compiler_options()\n",
    "end"
   ]
  },
  {
   "cell_type": "code",
   "execution_count": null,
   "id": "e1591bc2-0266-43cd-854f-23170505c6c9",
   "metadata": {},
   "outputs": [],
   "source": []
  }
 ],
 "metadata": {
  "kernelspec": {
   "display_name": "Fortran",
   "language": "",
   "name": "jansfortrankernel"
  },
  "language_info": {
   "file_extension": ".f90",
   "mimetype": "application/fortran",
   "name": "fortran"
  }
 },
 "nbformat": 4,
 "nbformat_minor": 5
}
